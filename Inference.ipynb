{
 "cells": [
  {
   "cell_type": "code",
   "execution_count": 20,
   "id": "e6953b78",
   "metadata": {},
   "outputs": [
    {
     "name": "stdout",
     "output_type": "stream",
     "text": [
      "The autoreload extension is already loaded. To reload it, use:\n",
      "  %reload_ext autoreload\n"
     ]
    }
   ],
   "source": [
    "%load_ext autoreload\n",
    "%autoreload 2"
   ]
  },
  {
   "cell_type": "code",
   "execution_count": 21,
   "id": "58808130",
   "metadata": {},
   "outputs": [],
   "source": [
    "import pickle\n",
    "import os\n",
    "import numpy as np\n",
    "import pandas as pd\n",
    "import torch\n",
    "import sys\n",
    "import tqdm as notebook_tqdm\n",
    "from sklearn.manifold import TSNE\n",
    "import plotly.graph_objects as go\n",
    "from word2vec import *"
   ]
  },
  {
   "cell_type": "markdown",
   "id": "33bc02b3",
   "metadata": {},
   "source": [
    "## Loading Model and Vocabulary"
   ]
  },
  {
   "cell_type": "code",
   "execution_count": 22,
   "id": "9289bf5b",
   "metadata": {},
   "outputs": [],
   "source": [
    "model_class =  \"SkipGramModel\"  # \"SkipGramModel\"  \"CBOWModel\"\n",
    "ds_name = \"wikitext-2-v1\"   # \"wikitext-103-v1\"   \"wikitext-2-v1\"\n",
    "dir_path = f\"{model_class}_{ds_name}_data\"\n",
    "model_path = os.path.join(dir_path, \"model.pt\") \n",
    "vocab_path = os.path.join(dir_path, \"vocab.pkl\") \n",
    "device = torch.device(\"cuda\" if torch.cuda.is_available() else \"cpu\")\n",
    "\n",
    "model = torch.load(model_path, map_location=device)\n",
    "with open(vocab_path, 'rb') as file:\n",
    "    vocab = pickle.load(file)\n"
   ]
  },
  {
   "cell_type": "markdown",
   "id": "0f93a095",
   "metadata": {},
   "source": [
    "## Getting Embeddings"
   ]
  },
  {
   "cell_type": "code",
   "execution_count": 23,
   "id": "fb8fec7b",
   "metadata": {},
   "outputs": [
    {
     "data": {
      "text/plain": [
       "(4072, 300)"
      ]
     },
     "execution_count": 23,
     "metadata": {},
     "output_type": "execute_result"
    }
   ],
   "source": [
    "# embedding from first model layer\n",
    "embeddings = list(model.parameters())[0]\n",
    "embeddings = embeddings.cpu().detach().numpy()\n",
    "\n",
    "# normalization\n",
    "norms = (embeddings ** 2).sum(axis=1) ** (1 / 2)\n",
    "norms = np.reshape(norms, (len(norms), 1))\n",
    "embeddings_norm = embeddings / norms\n",
    "embeddings_norm.shape"
   ]
  },
  {
   "cell_type": "markdown",
   "id": "53d61ffe",
   "metadata": {},
   "source": [
    "# Visualization with t-SNE"
   ]
  },
  {
   "cell_type": "code",
   "execution_count": 24,
   "id": "5296057c",
   "metadata": {},
   "outputs": [],
   "source": [
    "# get embeddings\n",
    "embeddings_df = pd.DataFrame(embeddings)\n",
    "\n",
    "# t-SNE transform\n",
    "tsne = TSNE(n_components=2)\n",
    "embeddings_df_trans = tsne.fit_transform(embeddings_df)\n",
    "embeddings_df_trans = pd.DataFrame(embeddings_df_trans)\n",
    "\n",
    "# get token order\n",
    "embeddings_df_trans.index = vocab.idx_to_word\n",
    "\n",
    "# if token is a number\n",
    "is_numeric = embeddings_df_trans.index.str.isnumeric()"
   ]
  },
  {
   "cell_type": "code",
   "execution_count": 25,
   "id": "f53e4ea5",
   "metadata": {},
   "outputs": [],
   "source": [
    "color = np.where(is_numeric, \"green\", \"black\")\n",
    "fig = go.Figure()\n",
    "\n",
    "fig.add_trace(\n",
    "    go.Scatter(\n",
    "        x=embeddings_df_trans[0],\n",
    "        y=embeddings_df_trans[1],\n",
    "        mode=\"text\",\n",
    "        text=embeddings_df_trans.index,\n",
    "        textposition=\"middle center\",\n",
    "        textfont=dict(color=color),\n",
    "    )\n",
    ")\n",
    "fig.write_html(f\"./{dir_path}/word2vec_visualization.html\")"
   ]
  },
  {
   "cell_type": "markdown",
   "id": "4c1790ce",
   "metadata": {},
   "source": [
    "# Find Similar Words"
   ]
  },
  {
   "cell_type": "code",
   "execution_count": 26,
   "id": "aa629850",
   "metadata": {},
   "outputs": [],
   "source": [
    "def get_top_similar(word: str, topN: int = 10):\n",
    "    word_id = vocab.word_to_idx.get(word, 0)\n",
    "    if word_id == 0:\n",
    "        print(\"Out of vocabulary word\")\n",
    "        return {}\n",
    "\n",
    "    word_vec = embeddings_norm[word_id]\n",
    "    word_vec = np.reshape(word_vec, (len(word_vec), 1))\n",
    "    dists = np.matmul(embeddings_norm, word_vec).flatten()\n",
    "    topN_ids = np.argsort(-dists)[1 : topN + 1]\n",
    "\n",
    "    topN_dict = {}\n",
    "    for sim_word_id in topN_ids:\n",
    "        sim_word = vocab.idx_to_word[sim_word_id]\n",
    "        topN_dict[sim_word] = dists[sim_word_id]\n",
    "    return topN_dict"
   ]
  },
  {
   "cell_type": "code",
   "execution_count": 27,
   "id": "e409d821",
   "metadata": {},
   "outputs": [
    {
     "name": "stdout",
     "output_type": "stream",
     "text": [
      "goddess: 0.565\n",
      "shiva: 0.535\n",
      "divine: 0.517\n",
      "deity: 0.496\n",
      "khandoba: 0.496\n",
      "allah: 0.491\n",
      "spirit: 0.490\n",
      "arabic: 0.462\n",
      "kitsune: 0.459\n",
      "holy: 0.457\n"
     ]
    }
   ],
   "source": [
    "for word, sim in get_top_similar(\"god\").items():\n",
    "    print(\"{}: {:.3f}\".format(word, sim))"
   ]
  },
  {
   "cell_type": "markdown",
   "id": "053a227b",
   "metadata": {},
   "source": [
    "# Vector Equations"
   ]
  },
  {
   "cell_type": "code",
   "execution_count": 28,
   "id": "e2cffb0d",
   "metadata": {},
   "outputs": [
    {
     "name": "stdout",
     "output_type": "stream",
     "text": [
      "king: 0.617\n",
      "woman: 0.495\n",
      "daughter: 0.414\n",
      "goddess: 0.378\n",
      "maria: 0.370\n",
      "khandoba: 0.369\n",
      "shiva: 0.353\n",
      "son: 0.353\n",
      "saint: 0.348\n",
      "edward: 0.335\n"
     ]
    }
   ],
   "source": [
    "emb1 = embeddings[vocab.word_to_idx.get(\"king\", 0)]\n",
    "emb2 = embeddings[vocab.word_to_idx.get(\"man\", 0)]\n",
    "emb3 = embeddings[vocab.word_to_idx.get(\"woman\", 0)]\n",
    "\n",
    "emb4 = emb1 - emb2 + emb3\n",
    "emb4_norm = (emb4 ** 2).sum() ** (1 / 2)\n",
    "emb4 = emb4 / emb4_norm\n",
    "\n",
    "emb4 = np.reshape(emb4, (len(emb4), 1))\n",
    "dists = np.matmul(embeddings_norm, emb4).flatten()\n",
    "\n",
    "top5 = np.argsort(-dists)[:10]\n",
    "\n",
    "for word_id in top5:\n",
    "    print(\"{}: {:.3f}\".format(vocab.idx_to_word[word_id], dists[word_id]))"
   ]
  },
  {
   "cell_type": "code",
   "execution_count": 26,
   "id": "b71d8aa3",
   "metadata": {},
   "outputs": [
    {
     "data": {
      "text/plain": [
       "4072"
      ]
     },
     "execution_count": 26,
     "metadata": {},
     "output_type": "execute_result"
    }
   ],
   "source": [
    "len(vocab.idx_to_word)"
   ]
  }
 ],
 "metadata": {
  "environment": {
   "name": "tf2-gpu.2-3.m74",
   "type": "gcloud",
   "uri": "gcr.io/deeplearning-platform-release/tf2-gpu.2-3:m74"
  },
  "kernelspec": {
   "display_name": "Python 3",
   "language": "python",
   "name": "python3"
  },
  "language_info": {
   "codemirror_mode": {
    "name": "ipython",
    "version": 3
   },
   "file_extension": ".py",
   "mimetype": "text/x-python",
   "name": "python",
   "nbconvert_exporter": "python",
   "pygments_lexer": "ipython3",
   "version": "3.10.9"
  }
 },
 "nbformat": 4,
 "nbformat_minor": 5
}
